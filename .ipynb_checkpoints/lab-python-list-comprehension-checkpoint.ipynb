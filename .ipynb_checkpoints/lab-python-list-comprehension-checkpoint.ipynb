{
 "cells": [
  {
   "cell_type": "markdown",
   "id": "25d7736c-ba17-4aff-b6bb-66eba20fbf4e",
   "metadata": {},
   "source": [
    "# Lab | List, Dict and Set Comprehension"
   ]
  },
  {
   "cell_type": "markdown",
   "id": "7dd3cbde-675a-4b81-92c3-f728846dbe06",
   "metadata": {},
   "source": [
    "## Exercise: Managing Customer Orders Optimized with Comprehension"
   ]
  },
  {
   "cell_type": "code",
   "execution_count": 1,
   "id": "41d9daf1",
   "metadata": {},
   "outputs": [],
   "source": [
    "# In the previous exercise, you developed a program to manage customer orders and inventory. Now, let's take it a step further and incorporate comprehension into your code.\n",
    "\n",
    "# Follow the steps below to complete the exercise:\n",
    "\n",
    "# 1. Review your code from the previous exercise and identify areas where you can apply comprehension to simplify and streamline your code. \n",
    "\n",
    "#     - *Hint: Apply it to initialize inventory, updating the inventory and printing the updated inventory.*\n",
    "    \n",
    "#     - For example, in initializing the inventory, we could have:\n",
    "    \n",
    "#         ```python\n",
    "#         def initialize_inventory(products):\n",
    "#             inventory = {product: int(input(f\"Enter the quantity of {product}s available: \")) for product in products}\n",
    "#             return inventory\n",
    "\n",
    "#         ```\n",
    "# <br>\n",
    "    \n",
    "    \n",
    "# 2. Modify the function get_customer_orders so it prompts the user to enter the number of customer orders and gathers the product names using a loop and user input. Use comprehension.\n",
    "\n",
    "# 3. Add a new function to calculate the total price of the customer order. For each product in customer_orders, prompt the user to enter the price of that product. Use comprehension to calculate the total price. Note: assume that the user can only have 1 unit of each product.\n",
    "\n",
    "# 4. Modify the update_inventory function to remove the product from the inventory if its quantity becomes zero after fulfilling the customer orders. Use comprehension to filter out the products with a quantity of zero from the inventory.\n",
    "\n",
    "# 5. Print the total price of the customer order.\n",
    "\n",
    "# Your code should produce output similar to the following:\n",
    "\n",
    "# ```python\n",
    "# Enter the quantity of t-shirts available:  5\n",
    "# Enter the quantity of mugs available:  4\n",
    "# Enter the quantity of hats available:  3\n",
    "# Enter the quantity of books available:  2\n",
    "# Enter the quantity of keychains available:  1\n",
    "# Enter the number of customer orders:  2\n",
    "# Enter the name of a product that a customer wants to order:  hat\n",
    "# Enter the name of a product that a customer wants to order:  keychain\n",
    "\n",
    "# Order Statistics:\n",
    "# Total Products Ordered: 2\n",
    "# Percentage of Unique Products Ordered: 40.0\n",
    "\n",
    "# Updated Inventory:\n",
    "# t-shirt: 5\n",
    "# mug: 4\n",
    "# hat: 2\n",
    "# book: 2\n",
    "# Enter the price of keychain:  5\n",
    "# Enter the price of hat:  10\n",
    "# Total Price: 15.0\n",
    "\n",
    "# ```\n"
   ]
  },
  {
   "cell_type": "markdown",
   "id": "7ccbf011",
   "metadata": {},
   "source": [
    "**Review your code from the previous exercise and identify areas where you can apply comprehension to simplify and streamline your code.**\n"
   ]
  },
  {
   "cell_type": "code",
   "execution_count": null,
   "id": "4dccb837",
   "metadata": {},
   "outputs": [],
   "source": [
    "\n",
    "product = ['t-shirt', 'mug', 'hat', 'book', 'keychain']\n",
    "products_updated = {}\n",
    "\n",
    "    \n",
    "def initialize_inventory(products):\n",
    "    inventory = {product: int(input(f\"Enter the quantity of {product}s available: \")) for product in products}\n",
    "    return inventory\n",
    "    \n",
    "\n",
    "initialize_inventory(product)"
   ]
  },
  {
   "cell_type": "markdown",
   "id": "a0891c3c",
   "metadata": {},
   "source": []
  },
  {
   "cell_type": "markdown",
   "id": "219fed26",
   "metadata": {},
   "source": [
    "**# 2. Modify the function get_customer_orders so it prompts the user to enter the number of customer orders and gathers the product names using a loop and user input. Use comprehension.**"
   ]
  },
  {
   "cell_type": "code",
   "execution_count": null,
   "id": "34b4e614",
   "metadata": {},
   "outputs": [],
   "source": [
    "def get_customer_orders():\n",
    "    num_orders = int(input(\"Enter the number of customer orders: \"))\n",
    "    customer_orders = set()\n",
    "    for _ in range(num_orders):\n",
    "        product = input(\"Enter the name of a product that a customer wants to order: \")\n",
    "        customer_orders.add(product)\n",
    "    return customer_orders\n",
    "get_customer_orders()"
   ]
  },
  {
   "cell_type": "code",
   "execution_count": null,
   "id": "7d5333d9",
   "metadata": {},
   "outputs": [],
   "source": []
  },
  {
   "cell_type": "markdown",
   "id": "b2982460",
   "metadata": {},
   "source": [
    "**# 3. Add a new function to calculate the total price of the customer order. For each product in customer_orders, prompt the user to enter the price of that product. Use comprehension to calculate the total price. Note: assume that the user can only have 1 unit of each product.**"
   ]
  },
  {
   "cell_type": "code",
   "execution_count": null,
   "id": "c4762b6f",
   "metadata": {},
   "outputs": [],
   "source": []
  },
  {
   "cell_type": "markdown",
   "id": "d4259f82",
   "metadata": {},
   "source": [
    "**# 4. Modify the update_inventory function to remove the product from the inventory if its quantity becomes zero after fulfilling the customer orders. Use comprehension to filter out the products with a quantity of zero from the inventory.**\n"
   ]
  },
  {
   "cell_type": "code",
   "execution_count": 1,
   "id": "8941e3b3",
   "metadata": {},
   "outputs": [],
   "source": [
    "def update_inventory(customer_orders, inventory):\n",
    "    updated_inventory = {product: quantity - 1 if product in customer_orders and quantity > 0 else quantity for product, quantity in inventory.items()}\n",
    "    return updated_inventory"
   ]
  },
  {
   "cell_type": "code",
   "execution_count": null,
   "id": "8b089200",
   "metadata": {},
   "outputs": [],
   "source": []
  },
  {
   "cell_type": "markdown",
   "id": "83e1525d",
   "metadata": {},
   "source": [
    "**5. Print the total price of the customer order.**\n",
    "\n",
    "Your code should produce output similar to the following:\n",
    "\n",
    "```python\n",
    "Enter the quantity of t-shirts available:  5\n",
    "Enter the quantity of mugs available:  4\n",
    "Enter the quantity of hats available:  3\n",
    "Enter the quantity of books available:  2\n",
    "Enter the quantity of keychains available:  1\n",
    "Enter the number of customer orders:  2\n",
    "Enter the name of a product that a customer wants to order:  hat\n",
    "Enter the name of a product that a customer wants to order:  keychain\n",
    "\n",
    "Order Statistics:\n",
    "Total Products Ordered: 2\n",
    "Percentage of Unique Products Ordered: 40.0\n",
    "\n",
    "Updated Inventory:\n",
    "t-shirt: 5\n",
    "mug: 4\n",
    "hat: 2\n",
    "book: 2\n",
    "Enter the price of keychain:  5\n",
    "Enter the price of hat:  10\n",
    "Total Price: 15.0\n"
   ]
  },
  {
   "cell_type": "code",
   "execution_count": null,
   "id": "0d77ec09",
   "metadata": {},
   "outputs": [],
   "source": [
    "def calculate_order_statistics(customer_orders, products):\n",
    "    ordered_products = len(customer_orders)\n",
    "    percentage = (ordered_products / len(products)) * 100\n",
    "    return ordered_products, percentage"
   ]
  },
  {
   "cell_type": "code",
   "execution_count": 3,
   "id": "126b324c",
   "metadata": {},
   "outputs": [],
   "source": [
    "def print_order_statistics(order_statistics):\n",
    "    \n",
    "    ordered_products,percentage = order_statistics\n",
    "    return {\"Total products ordered\": ordered_products, \"Percentage of products\":f\"{percentage}%\"}"
   ]
  },
  {
   "cell_type": "code",
   "execution_count": null,
   "id": "a4389338",
   "metadata": {},
   "outputs": [],
   "source": [
    "def print_updated_inventory(inventory):\n",
    "    print(\"Updated Inventory:\")\n",
    "    [print(f\"{product}: {quantity}\") for product, quantity in inventory.items() if quantity > 0]"
   ]
  },
  {
   "cell_type": "code",
   "execution_count": null,
   "id": "b8256177",
   "metadata": {},
   "outputs": [],
   "source": [
    "def calculate_total_price(customer_orders):\n",
    "    total_price = sum(float(input(f\"Enter the price for {product}: \")) for product in customer_orders)\n",
    "    return total_price"
   ]
  },
  {
   "cell_type": "code",
   "execution_count": null,
   "id": "4155c281",
   "metadata": {},
   "outputs": [],
   "source": [
    "inventory = initialize_inventory(products)\n",
    "customer_orders = get_customer_orders()\n",
    "inventory = update_inventory(customer_orders, inventory)\n",
    "order_statistics = calculate_order_statistics(customer_orders, products)\n",
    "\n",
    "print(\"Order Statistics:\")\n",
    "print(f\"Total Products Ordered: {len(customer_orders)}\")\n",
    "print(f\"Percentage of Products Ordered: {order_statistics[1]}\")\n",
    "print_updated_inventory(inventory)\n",
    "\n",
    "total_price = calculate_total_price(customer_orders)\n",
    "print(f\"Total price: {total_price}\")"
   ]
  },
  {
   "cell_type": "code",
   "execution_count": null,
   "id": "610a426d",
   "metadata": {},
   "outputs": [],
   "source": []
  }
 ],
 "metadata": {
  "kernelspec": {
   "display_name": "Python 3 (ipykernel)",
   "language": "python",
   "name": "python3"
  },
  "language_info": {
   "codemirror_mode": {
    "name": "ipython",
    "version": 3
   },
   "file_extension": ".py",
   "mimetype": "text/x-python",
   "name": "python",
   "nbconvert_exporter": "python",
   "pygments_lexer": "ipython3",
   "version": "3.11.4"
  }
 },
 "nbformat": 4,
 "nbformat_minor": 5
}
